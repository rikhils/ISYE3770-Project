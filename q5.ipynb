{
 "cells": [
  {
   "cell_type": "markdown",
   "metadata": {},
   "source": [
    "### Question 5: How does smoking / drinking history affect tumor stage and grade?"
   ]
  },
  {
   "cell_type": "code",
   "execution_count": 1,
   "metadata": {},
   "outputs": [],
   "source": [
    "import pandas as pd\n",
    "import numpy as np\n",
    "import matplotlib.pyplot as plt\n",
    "import scipy.stats as stats\n",
    "import matplotlib.pyplot as plt\n",
    "import seaborn as sns\n",
    "from cci import charlson_comorbidity_idx\n",
    "import json\n",
    "from lifelines import KaplanMeierFitter\n",
    "\n",
    "# Load the data\n",
    "data = pd.read_json('cci_kits23.json')\n",
    "data['pathology_t_stage'] = data['pathology_t_stage'].apply(lambda x: '1' if x in ['1a', '1b'] else ('2' if x in ['2a', '2b'] else x))"
   ]
  },
  {
   "cell_type": "code",
   "execution_count": 3,
   "metadata": {},
   "outputs": [
    {
     "name": "stdout",
     "output_type": "stream",
     "text": [
      "Tumor Stage\n",
      "Chi2: 163.4060055191478\n",
      "p-value: 0.8071871160624227\n",
      "Degrees of freedom: 180\n",
      "--------------------\n",
      "Tumor Grade\n",
      "Chi2: 217.4148536093698\n",
      "p-value: 0.029756970040688124\n",
      "Degrees of freedom: 180\n"
     ]
    }
   ],
   "source": [
    "# Chi Square Test of Independence\n",
    "\n",
    "contingency_table = pd.crosstab(data['pathology_t_stage'], data['pack_years']) \n",
    "# contingency_table = pd.crosstab(data['age_at_nephrectomy'], data['pathology_t_stage'])\n",
    "chi2, p, dof, expected = stats.chi2_contingency(contingency_table)\n",
    "print(\"Tumor Stage\")\n",
    "print('Chi2:', chi2)\n",
    "print('p-value:', p)\n",
    "print('Degrees of freedom:', dof)\n",
    "# print('Expected:', expected)\n",
    "\n",
    "contingency_table = pd.crosstab(data['tumor_isup_grade'], data['pack_years']) \n",
    "# contingency_table = pd.crosstab(data['age_at_nephrectomy'], data['pathology_t_stage'])\n",
    "chi2, p, dof, expected = stats.chi2_contingency(contingency_table)\n",
    "print('--------------------')\n",
    "print(\"Tumor Grade\")\n",
    "print('Chi2:', chi2)\n",
    "print('p-value:', p)\n",
    "print('Degrees of freedom:', dof)\n",
    "# print('Expected:', expected)"
   ]
  },
  {
   "cell_type": "markdown",
   "metadata": {},
   "source": [
    "There is a significant association between smoking pack years and tumor grade, but there is no significant association between smoking pack years and tumor stage with an alpha level of 0.05. \n",
    "\n",
    "If the patient smoked more, they are likely to have a higher tumor grade but not stage. "
   ]
  }
 ],
 "metadata": {
  "kernelspec": {
   "display_name": "base",
   "language": "python",
   "name": "python3"
  },
  "language_info": {
   "codemirror_mode": {
    "name": "ipython",
    "version": 3
   },
   "file_extension": ".py",
   "mimetype": "text/x-python",
   "name": "python",
   "nbconvert_exporter": "python",
   "pygments_lexer": "ipython3",
   "version": "3.11.5"
  }
 },
 "nbformat": 4,
 "nbformat_minor": 2
}
